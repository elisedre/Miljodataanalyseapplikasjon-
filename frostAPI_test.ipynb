{
 "cells": [
  {
   "cell_type": "code",
   "execution_count": 4,
   "metadata": {},
   "outputs": [
    {
     "name": "stdout",
     "output_type": "stream",
     "text": [
      "     Stasjon                 Tidspunkt  Temperatur\n",
      "0  SN18700:0  2010-04-01T00:00:00.000Z         3.2\n",
      "1  SN18700:0  2010-04-01T00:00:00.000Z         3.0\n",
      "2  SN18700:0  2010-04-02T00:00:00.000Z         3.0\n",
      "3  SN18700:0  2010-04-02T00:00:00.000Z         3.2\n",
      "4  SN90450:0  2010-04-01T00:00:00.000Z         2.1\n"
     ]
    }
   ],
   "source": [
    "import requests  \n",
    "import pandas as pd  \n",
    "\n",
    "\n",
    "client_id = \"6fe8ffa7-15ce-42d6-9a40-03b1b3e5dd76\"\n",
    "\n",
    "url = \"https://frost.met.no/observations/v0.jsonld\"\n",
    "\n",
    "parameters = {\n",
    "    \"sources\": \"SN18700,SN90450\",  \n",
    "    \"elements\": \"mean(air_temperature P1D)\", \n",
    "    \"referencetime\": \"2010-04-01/2010-04-03\",  \n",
    "}\n",
    "\n",
    "response = requests.get(url, params=parameters, auth=(client_id, \"\")) \n",
    "\n",
    "\n",
    "if response.status_code != 200:  \n",
    "    print(\"Kunne ikke hente data\")\n",
    "    exit()  \n",
    "\n",
    "\n",
    "data = response.json()[\"data\"]\n",
    "\n",
    "målinger = []\n",
    "\n",
    "\n",
    "for måling in data:\n",
    "    tidspunkt = måling[\"referenceTime\"] # Tidspunktet for målingen\n",
    "    stasjon = måling[\"sourceId\"] # Stasjonsnummeret\n",
    "\n",
    "    for verdi in måling[\"observations\"]:  #Temperaturmålingen\n",
    "        målinger.append({\"Stasjon\": stasjon, \"Tidspunkt\": tidspunkt, \"Temperatur\": verdi[\"value\"]})\n",
    "\n",
    "#Tabell\n",
    "df = pd.DataFrame(målinger, columns=[\"Stasjon\", \"Tidspunkt\", \"Temperatur\"])\n",
    "\n",
    "# Lagre som JSON\n",
    "df = pd.DataFrame(målinger)\n",
    "df.to_json(\"weather_data.json\", orient=\"records\", indent=4, force_ascii=False)\n",
    "\n",
    "\n",
    "print(df.head())"
   ]
  },
  {
   "cell_type": "code",
   "execution_count": null,
   "metadata": {},
   "outputs": [],
   "source": []
  }
 ],
 "metadata": {
  "kernelspec": {
   "display_name": "venv",
   "language": "python",
   "name": "python3"
  },
  "language_info": {
   "codemirror_mode": {
    "name": "ipython",
    "version": 3
   },
   "file_extension": ".py",
   "mimetype": "text/x-python",
   "name": "python",
   "nbconvert_exporter": "python",
   "pygments_lexer": "ipython3",
   "version": "3.13.2"
  }
 },
 "nbformat": 4,
 "nbformat_minor": 2
}
