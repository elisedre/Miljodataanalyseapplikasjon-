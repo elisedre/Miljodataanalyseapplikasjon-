{
 "cells": [
  {
   "cell_type": "code",
   "execution_count": 10,
   "metadata": {},
   "outputs": [
    {
     "name": "stdout",
     "output_type": "stream",
     "text": [
      "Resultat er lagert i /Users/josefinehuffman/Documents/Miljodataanalyseapplikasjon--1/notebooks/../data/clean_data/mean_temp.json\n"
     ]
    }
   ],
   "source": [
    "import json\n",
    "import sys\n",
    "import os\n",
    "\n",
    "sys.path.insert(0, '../src')\n",
    "from mean_temp_frost import calculate_daily_average\n",
    "\n",
    "# Finn gjeldende arbeidsmappe\n",
    "current_directory = os.getcwd()\n",
    "\n",
    "# Bygger filsti til input- og output-fil\n",
    "file_path = os.path.join(current_directory, '..', 'data', 'raw_data', 'mean_temp_frost.json')\n",
    "output_file_path = os.path.join(current_directory, '..', 'data', 'clean_data', 'mean_temp.json')\n",
    "\n",
    "with open(file_path, \"r\") as f:\n",
    "    data = json.load(f)\n",
    "    \n",
    "    result = calculate_daily_average(data)\n",
    "\n",
    "    # Lagre resultatet til en ny fil\n",
    "    with open(output_file_path, \"w\") as out_f:\n",
    "        json.dump(result, out_f, indent=4)  # 'indent' gjør JSON-en pen og lettleselig\n",
    "\n",
    "    print(f\"Resultat er lagert i {output_file_path}\")\n"
   ]
  },
  {
   "cell_type": "code",
   "execution_count": null,
   "metadata": {},
   "outputs": [],
   "source": []
  }
 ],
 "metadata": {
  "kernelspec": {
   "display_name": "venv",
   "language": "python",
   "name": "python3"
  },
  "language_info": {
   "codemirror_mode": {
    "name": "ipython",
    "version": 3
   },
   "file_extension": ".py",
   "mimetype": "text/x-python",
   "name": "python",
   "nbconvert_exporter": "python",
   "pygments_lexer": "ipython3",
   "version": "3.13.2"
  }
 },
 "nbformat": 4,
 "nbformat_minor": 2
}
