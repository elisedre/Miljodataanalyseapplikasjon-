{
 "cells": [
  {
   "cell_type": "code",
   "execution_count": 3,
   "metadata": {},
   "outputs": [],
   "source": [
    "import os\n",
    "from dotenv import load_dotenv\n",
    "\n",
    "load_dotenv()\n",
    "\n",
    "client_id = os.getenv('client_id_frost')\n",
    "\n",
    "endpoint = \"https://frost.met.no/observations/v0.jsonld\"\n",
    "\n",
    "parameters = {\n",
    "    \"sources\": \"SN18700\",  \n",
    "    \"elements\": \"sum(precipitation_amount P1D)\", \n",
    "    \"referencetime\": \"2010-04-01/2022-04-03\",  \n",
    "}\n",
    "\n",
    "file = \"../data/raw_data/rain_frost.json\"\n"
   ]
  },
  {
   "cell_type": "code",
   "execution_count": 4,
   "metadata": {},
   "outputs": [
    {
     "name": "stdout",
     "output_type": "stream",
     "text": [
      "Det funket!\n"
     ]
    }
   ],
   "source": [
    "import sys\n",
    "\n",
    "sys.path.insert(0, '../src/')\n",
    "from frostAPI.fetch_rain_data_frost import fetch_data\n",
    "fetch_data(endpoint, parameters, file, client_id)"
   ]
  }
 ],
 "metadata": {
  "kernelspec": {
   "display_name": "venv",
   "language": "python",
   "name": "python3"
  },
  "language_info": {
   "codemirror_mode": {
    "name": "ipython",
    "version": 3
   },
   "file_extension": ".py",
   "mimetype": "text/x-python",
   "name": "python",
   "nbconvert_exporter": "python",
   "pygments_lexer": "ipython3",
   "version": "3.13.1"
  }
 },
 "nbformat": 4,
 "nbformat_minor": 2
}
