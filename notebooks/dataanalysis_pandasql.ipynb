{
 "cells": [
  {
   "cell_type": "code",
   "execution_count": 7,
   "metadata": {},
   "outputs": [
    {
     "name": "stdout",
     "output_type": "stream",
     "text": [
      "   StdDev_Nedbør  StdDev_Temperatur  StdDev_Vindhastighet\n",
      "0       5.241123           7.932812              1.159046\n"
     ]
    }
   ],
   "source": [
    "# Importerer nødvendige biblioteker \n",
    "import pandas as pd\n",
    "import pandasql as psql\n",
    "\n",
    "# Laster inn data\n",
    "file_name = \"../data/raw_data/frostAPI_data.json\"  \n",
    "data = pd.read_json(file_name)\n",
    "\n",
    "# Konverterer dataene til en Pandas DataFrame\n",
    "df = pd.DataFrame(data)\n",
    "\n",
    "# SQL-spørring for å beregne standardavvik for hele datasettet\n",
    "query = \"\"\"\n",
    "    SELECT\n",
    "        SQRT(SUM((Nedbør - (SELECT AVG(Nedbør) FROM df)) * \n",
    "                  (Nedbør - (SELECT AVG(Nedbør) FROM df))) / \n",
    "                  (COUNT(Nedbør) - 1)) AS StdDev_Nedbør,\n",
    "        SQRT(SUM((Temperatur - (SELECT AVG(Temperatur) FROM df)) * \n",
    "                  (Temperatur - (SELECT AVG(Temperatur) FROM df))) / \n",
    "                  (COUNT(Temperatur) - 1)) AS StdDev_Temperatur,\n",
    "        SQRT(SUM((Vindhastighet - (SELECT AVG(Vindhastighet) FROM df)) * \n",
    "                  (Vindhastighet - (SELECT AVG(Vindhastighet) FROM df))) / \n",
    "                  (COUNT(Vindhastighet) - 1)) AS StdDev_Vindhastighet\n",
    "    FROM df\n",
    "\"\"\"\n",
    "result = psql.sqldf(query, locals())\n",
    "\n",
    "# Skriver ut resultatet\n",
    "print(result)"
   ]
  },
  {
   "cell_type": "code",
   "execution_count": 9,
   "metadata": {},
   "outputs": [
    {
     "name": "stdout",
     "output_type": "stream",
     "text": [
      "          Uke  Avg_Nedbør  Avg_Temperatur  Avg_Vindhastighet\n",
      "0    2010-U13   13.633333        3.000000           2.300000\n",
      "1    2010-U14    0.642857        4.985714           2.300000\n",
      "2    2010-U15    0.057143        7.728571           2.757143\n",
      "3    2010-U16    0.014286        4.571429           2.671429\n",
      "4    2010-U17    2.228571        7.742857           2.157143\n",
      "..        ...         ...             ...                ...\n",
      "632  2022-U09    0.085714        2.042857           2.314286\n",
      "633  2022-U10    0.042857        0.542857           1.771429\n",
      "634  2022-U11    0.342857        2.685714           2.042857\n",
      "635  2022-U12    0.000000        4.671429           2.085714\n",
      "636  2022-U13    0.042857        3.057143           2.842857\n",
      "\n",
      "[637 rows x 4 columns]\n"
     ]
    }
   ],
   "source": [
    "# Importerer nødvendige biblioteker \n",
    "import pandas as pd\n",
    "import pandasql as psql\n",
    "\n",
    "# Laster inn data\n",
    "file_name = \"../data/raw_data/frostAPI_data.json\"  \n",
    "data = pd.read_json(file_name)\n",
    "\n",
    "# Konverterer dataene til en Pandas DataFrame\n",
    "df = pd.DataFrame(data)\n",
    "\n",
    "# Legger til en kolonne for uke\n",
    "df['Uke'] = pd.to_datetime(df['Dato']).dt.strftime('%Y-U%U')\n",
    "\n",
    "# SQL-spørring for å beregne gjennomsnitt per uke\n",
    "query = \"\"\"\n",
    "    SELECT\n",
    "        Uke,\n",
    "        AVG(Nedbør) AS Avg_Nedbør,\n",
    "        AVG(Temperatur) AS Avg_Temperatur,\n",
    "        AVG(Vindhastighet) AS Avg_Vindhastighet\n",
    "    FROM df\n",
    "    GROUP BY Uke\n",
    "    ORDER BY Uke\n",
    "\"\"\"\n",
    "result = psql.sqldf(query, locals())\n",
    "\n",
    "# Skriver ut resultatet\n",
    "print(result)"
   ]
  },
  {
   "cell_type": "code",
   "execution_count": 10,
   "metadata": {},
   "outputs": [
    {
     "name": "stdout",
     "output_type": "stream",
     "text": [
      "          Uke  StdDev_Nedbør  StdDev_Temperatur  StdDev_Vindhastighet\n",
      "0    2010-U13      19.379106           5.356527              0.782895\n",
      "1    2010-U14       2.250513           2.958045              1.141659\n",
      "2    2010-U15       2.539415           0.884271              1.331183\n",
      "3    2010-U16       2.581478           3.335648              0.595125\n",
      "4    2010-U17       4.667436           1.544210              0.879543\n",
      "..        ...            ...                ...                   ...\n",
      "632  2022-U09       2.514298           5.922081              0.982191\n",
      "633  2022-U10       2.551554           7.543182              1.156790\n",
      "634  2022-U11       2.404014           5.111449              0.896157\n",
      "635  2022-U12       2.596632           3.664936              1.083375\n",
      "636  2022-U13       2.551554           5.997425              1.027905\n",
      "\n",
      "[637 rows x 4 columns]\n"
     ]
    }
   ],
   "source": [
    "# Importerer nødvendige biblioteker \n",
    "import pandas as pd\n",
    "import pandasql as psql\n",
    "\n",
    "# Laster inn data\n",
    "file_name = \"../data/raw_data/frostAPI_data.json\"  \n",
    "data = pd.read_json(file_name)\n",
    "\n",
    "# Konverterer dataene til en Pandas DataFrame\n",
    "df = pd.DataFrame(data)\n",
    "\n",
    "# Legger til en kolonne for uke\n",
    "df['Uke'] = pd.to_datetime(df['Dato']).dt.strftime('%Y-U%U')\n",
    "\n",
    "# SQL-spørring for å beregne standardavvik per uke\n",
    "query = \"\"\"\n",
    "    SELECT\n",
    "        Uke,\n",
    "        SQRT(SUM((Nedbør - (SELECT AVG(Nedbør) FROM df WHERE Uke = df.Uke)) * \n",
    "                  (Nedbør - (SELECT AVG(Nedbør) FROM df WHERE Uke = df.Uke))) / \n",
    "                  (COUNT(Nedbør) - 1)) AS StdDev_Nedbør,\n",
    "        SQRT(SUM((Temperatur - (SELECT AVG(Temperatur) FROM df WHERE Uke = df.Uke)) * \n",
    "                  (Temperatur - (SELECT AVG(Temperatur) FROM df WHERE Uke = df.Uke))) / \n",
    "                  (COUNT(Temperatur) - 1)) AS StdDev_Temperatur,\n",
    "        SQRT(SUM((Vindhastighet - (SELECT AVG(Vindhastighet) FROM df WHERE Uke = df.Uke)) * \n",
    "                  (Vindhastighet - (SELECT AVG(Vindhastighet) FROM df WHERE Uke = df.Uke))) / \n",
    "                  (COUNT(Vindhastighet) - 1)) AS StdDev_Vindhastighet\n",
    "    FROM df\n",
    "    GROUP BY Uke\n",
    "    ORDER BY Uke\n",
    "\"\"\"\n",
    "result = psql.sqldf(query, locals())\n",
    "\n",
    "# Skriver ut resultatet\n",
    "print(result)"
   ]
  }
 ],
 "metadata": {
  "kernelspec": {
   "display_name": "venv",
   "language": "python",
   "name": "python3"
  },
  "language_info": {
   "codemirror_mode": {
    "name": "ipython",
    "version": 3
   },
   "file_extension": ".py",
   "mimetype": "text/x-python",
   "name": "python",
   "nbconvert_exporter": "python",
   "pygments_lexer": "ipython3",
   "version": "3.13.2"
  }
 },
 "nbformat": 4,
 "nbformat_minor": 2
}
