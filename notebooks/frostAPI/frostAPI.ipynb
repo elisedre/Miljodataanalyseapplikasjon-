{
 "cells": [
  {
   "cell_type": "code",
   "execution_count": 8,
   "metadata": {},
   "outputs": [],
   "source": [
    "#Importerte biblioteker\n",
    "import os\n",
    "import sys\n",
    "import pandas as pd\n",
    "from pandasql import sqldf\n",
    "from dotenv import load_dotenv\n",
    "from sklearn.preprocessing import PowerTransformer\n",
    "\n",
    "#Globale parametrere for frostAPI\n",
    "load_dotenv()\n",
    "client_id = os.getenv('client_id_frost') #henter unik id fra .env fil\n",
    "from_date = \"2010-04-02\"\n",
    "to_date = \"2016-12-30\"\n"
   ]
  },
  {
   "cell_type": "code",
   "execution_count": 9,
   "metadata": {},
   "outputs": [
    {
     "name": "stdout",
     "output_type": "stream",
     "text": [
      "Gruppert data er lagret under ../../data/raw_data/frostAPI_data.json\n"
     ]
    }
   ],
   "source": [
    "#Spesiell funskjon for å bruke generell frostAPI funksjon for hente værdata \n",
    "def data_frostAPI():\n",
    "    endpoint = \"https://frost.met.no/observations/v0.jsonld\"\n",
    "    parameters = {\n",
    "        \"sources\": \"SN18700\", #oslo \n",
    "        \"elements\": 'mean(air_temperature P1D),sum(precipitation_amount P1D),mean(wind_speed P1D)', #Henter vind, tempratur og nedbør\n",
    "        \"referencetime\": \"2010-04-02/2016-12-31\",  \n",
    "    }\n",
    "\n",
    "    file = \"../../data/raw_data/frostAPI_data.json\"\n",
    "    elements = {\n",
    "    \"mean(air_temperature P1D)\": \"Temperatur\",\n",
    "    \"sum(precipitation_amount P1D)\": \"Nedbør\",\n",
    "    \"mean(wind_speed P1D)\": \"Vindhastighet\"}\n",
    "    \n",
    "    sys.path.insert(0, '../../src/')\n",
    "    from frostAPI.data_frostAPI import fetch_weather_data_frostAPI\n",
    "    fetch_weather_data_frostAPI(endpoint, parameters, file, client_id,elements)\n",
    "\n",
    "data_frostAPI()"
   ]
  },
  {
   "cell_type": "code",
   "execution_count": 10,
   "metadata": {},
   "outputs": [],
   "source": [
    "#Spesiell funksjon for å bruke generell funksjon for hente stasjoner fra frostAPI\n",
    "def get_stations_frostAPI():\n",
    "    \n",
    "    parameters = {\n",
    "        'types': 'SensorSystem',  \n",
    "        'country': 'NO',      \n",
    "    }\n",
    "\n",
    "    endpoint = 'https://frost.met.no/sources/v0.jsonld'\n",
    "\n",
    "    sys.path.insert(0, '../../src/')\n",
    "    from frostAPI.data_frostAPI import get_info_frostAPI\n",
    "    get_info_frostAPI(endpoint, parameters, client_id)\n",
    "\n",
    "#get_stations_frostAPI()"
   ]
  },
  {
   "cell_type": "code",
   "execution_count": 11,
   "metadata": {},
   "outputs": [],
   "source": [
    "#Spesiell funksjon for å bruke generell funksjon for hente elementer fra frostAPI\n",
    "def get_elements_frostAPI():\n",
    "    \n",
    "    parameters = None\n",
    "    endpoint = 'https://frost.met.no/elements/v0.jsonld'\n",
    "\n",
    "    sys.path.insert(0, '../../src/')\n",
    "    from frostAPI.data_frostAPI import get_info_frostAPI\n",
    "    get_info_frostAPI(endpoint, parameters, client_id)\n",
    "\n",
    "#get_elements_frostAPI()\n"
   ]
  },
  {
   "cell_type": "code",
   "execution_count": 12,
   "metadata": {},
   "outputs": [
    {
     "name": "stdout",
     "output_type": "stream",
     "text": [
      "Fjerning av outliers:\n",
      "Outliers er mer enn 3 standardavvik unna gjennomsnittet\n",
      "\n",
      "Nedbør:\n",
      "Fjernet 62 outliers\n",
      "Standardavvik: 5.22\n",
      "Gjennomsnitt: 2.43\n",
      "\n",
      "Temperatur:\n",
      "Fjernet 0 outliers\n",
      "Standardavvik: 7.95\n",
      "Gjennomsnitt: 7.43\n",
      "\n",
      "Vindhastighet:\n",
      "Fjernet 25 outliers\n",
      "Standardavvik: 1.18\n",
      "Gjennomsnitt: 2.71\n",
      "\n",
      "\n",
      "Interpolering av NaN-verdier:\n",
      "Nedbør: 62 verdier ble interpolert\n",
      "Temperatur: 0 verdier ble interpolert\n",
      "Vindhastighet: 26 verdier ble interpolert\n",
      "\n",
      "Gruppert data er lagret under ../../data/clean_data/frostAPI_clean_data.json\n"
     ]
    }
   ],
   "source": [
    "#funskjon som setter outliers til Nan-verdi og interpolerer Nan-verdier\n",
    "def clean_data_frostAPI():\n",
    "    \n",
    "    sys.path.insert(0, '../../src/')\n",
    "    from frostAPI.data_frostAPI import remove_outliers_frost_data, interpolate_and_save_clean_data\n",
    "    raw_data_file = \"../../data/raw_data/frostAPI_data.json\"\n",
    "    clean_data_file = \"../../data/clean_data/frostAPI_clean_data.json\"\n",
    "    cols =[\"Nedbør\", \"Temperatur\", \"Vindhastighet\"]\n",
    "\n",
    "    no_outliers_df=remove_outliers_frost_data(raw_data_file, cols)\n",
    "    interpolate_and_save_clean_data(no_outliers_df, clean_data_file, from_date, to_date)\n",
    "    \n",
    "clean_data_frostAPI()\n"
   ]
  },
  {
   "cell_type": "code",
   "execution_count": null,
   "metadata": {},
   "outputs": [
    {
     "name": "stdout",
     "output_type": "stream",
     "text": [
      "Skjevhet før transformasjon:\n",
      "→ Nedbør: 2.28\n",
      "→ Temperatur: -0.27\n",
      "→ Vindhastighet: 0.71\n",
      "\n",
      "Påfører Yeo-Johnson på kolonner med skjevhet > ±1.0\n",
      "\n",
      "Skjevhet etter transformasjon:\n",
      "→ Nedbør: 0.63\n",
      "→ Temperatur: -0.27\n",
      "→ Vindhastighet: 0.71\n",
      "\n",
      "Gruppert data er lagret under ../../data/analyzed_data/frostAPI_analyzed_data.json\n"
     ]
    }
   ],
   "source": [
    "#funskjon som skal nomalfordele skjevheten i dataene med yeo-johnson metoden\n",
    "\n",
    "def fix_skewness_data_frostAPI():\n",
    "    \n",
    "    sys.path.insert(0, '../../src/')\n",
    "    from frostAPI.data_frostAPI import analyse_and_fix_skewness\n",
    "    clean_data_file = \"../../data/clean_data/frostAPI_clean_data.json\"\n",
    "    analyze_data_file= \"../../data/analyzed_data/frostAPI_analyzed_data.json\"\n",
    "    threshold = 1.0\n",
    "    cols =[\"Nedbør\", \"Temperatur\", \"Vindhastighet\"]\n",
    "    analyse_and_fix_skewness(clean_data_file, analyze_data_file, threshold, cols)\n",
    "\n",
    "fix_skewness_data_frostAPI()\n"
   ]
  },
  {
   "cell_type": "code",
   "execution_count": null,
   "metadata": {},
   "outputs": [
    {
     "name": "stdout",
     "output_type": "stream",
     "text": [
      "      Måned  SnittTemp  SnittNedbør  SnittVindhastighet  AntallDager\n",
      "0   2010-04   5.910345     1.017241            2.448276           29\n",
      "1   2010-05  10.822581     0.916129            2.932258           31\n",
      "2   2010-06  15.350000     1.486667            2.746667           30\n",
      "3   2010-07  18.009677     2.995161            2.867742           31\n",
      "4   2010-08  16.183871     3.419355            2.832258           31\n",
      "..      ...        ...          ...                 ...          ...\n",
      "76  2016-08  15.490323     4.043548            2.741935           31\n",
      "77  2016-09  15.140000     0.728333            2.436667           30\n",
      "78  2016-10   6.206452     0.425806            3.301613           31\n",
      "79  2016-11   0.890000     2.326667            2.661667           30\n",
      "80  2016-12   0.690000     0.650000            1.946667           30\n",
      "\n",
      "[81 rows x 5 columns]\n"
     ]
    }
   ],
   "source": [
    "#månedlig statistikk\n",
    "\n",
    "df = pd.read_json(\"../../data/clean_data/frostAPI_clean_data.json\")\n",
    "\n",
    "query = \"\"\"\n",
    "SELECT \n",
    "    strftime('%Y-%m', Dato) AS Måned, \n",
    "    AVG(Temperatur) AS SnittTemp,\n",
    "    AVG(Nedbør) AS SnittNedbør,\n",
    "    AVG(Vindhastighet) AS SnittVindhastighet,\n",
    "    COUNT(*) AS AntallDager\n",
    "FROM df\n",
    "GROUP BY Måned\n",
    "ORDER BY Måned\n",
    "\"\"\"\n",
    "pysqldf = lambda q: sqldf(q, globals())\n",
    "månedlig_stats = sqldf(query)\n",
    "print(månedlig_stats)\n",
    "\n"
   ]
  }
 ],
 "metadata": {
  "kernelspec": {
   "display_name": "venv",
   "language": "python",
   "name": "python3"
  },
  "language_info": {
   "codemirror_mode": {
    "name": "ipython",
    "version": 3
   },
   "file_extension": ".py",
   "mimetype": "text/x-python",
   "name": "python",
   "nbconvert_exporter": "python",
   "pygments_lexer": "ipython3",
   "version": "3.13.1"
  }
 },
 "nbformat": 4,
 "nbformat_minor": 2
}
