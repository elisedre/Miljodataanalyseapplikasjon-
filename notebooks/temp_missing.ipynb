{
 "cells": [
  {
   "cell_type": "code",
   "execution_count": 4,
   "metadata": {},
   "outputs": [
    {
     "name": "stdout",
     "output_type": "stream",
     "text": [
      "Dager i perioden: 4385\n",
      "Dager i data: 4385\n",
      "Manglende datoer: []\n",
      "Antall manglende datoer: 0\n"
     ]
    }
   ],
   "source": [
    "import json\n",
    "import pandas as pd\n",
    "import os\n",
    "\n",
    "# Finn gjeldende arbeidsmappe\n",
    "current_directory = os.getcwd()\n",
    "\n",
    "# Les inn data fra mean_temp.json\n",
    "output_file_path = os.path.join(current_directory, '..', 'data', 'clean_data', 'mean_temp.json')\n",
    "with open(output_file_path, \"r\") as f:\n",
    "    result = json.load(f)\n",
    "\n",
    "# Hent datoene som nøkler fra dictionaryen\n",
    "dates_in_data = list(result.keys())\n",
    "\n",
    "# Lag en liste over alle datoene i perioden\n",
    "start_date = pd.to_datetime(\"2010-04-01\")\n",
    "end_date = pd.to_datetime(\"2022-04-02\")\n",
    "all_dates = pd.date_range(start=start_date, end=end_date).strftime('%Y-%m-%d').tolist()\n",
    "\n",
    "# manglende datoer\n",
    "missing_dates = set(all_dates) - set(dates_in_data)\n",
    "missing_dates = sorted(missing_dates)  # Sorter datoene\n",
    "\n",
    "\n",
    "print(f\"Dager i perioden: {len(all_dates)}\")\n",
    "print(f\"Dager i data: {len(dates_in_data)}\")\n",
    "print(f\"Manglende datoer: {missing_dates}\")\n",
    "print(f\"Antall manglende datoer: {len(missing_dates)}\")\n"
   ]
  },
  {
   "cell_type": "code",
   "execution_count": null,
   "metadata": {},
   "outputs": [],
   "source": []
  },
  {
   "cell_type": "code",
   "execution_count": null,
   "metadata": {},
   "outputs": [],
   "source": []
  }
 ],
 "metadata": {
  "kernelspec": {
   "display_name": "venv",
   "language": "python",
   "name": "python3"
  },
  "language_info": {
   "codemirror_mode": {
    "name": "ipython",
    "version": 3
   },
   "file_extension": ".py",
   "mimetype": "text/x-python",
   "name": "python",
   "nbconvert_exporter": "python",
   "pygments_lexer": "ipython3",
   "version": "3.13.2"
  }
 },
 "nbformat": 4,
 "nbformat_minor": 2
}
