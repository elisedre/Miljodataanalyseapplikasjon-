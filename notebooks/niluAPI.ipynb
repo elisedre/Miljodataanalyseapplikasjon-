{
 "cells": [
  {
   "cell_type": "code",
   "execution_count": 16,
   "metadata": {},
   "outputs": [],
   "source": [
    "import requests\n",
    "\n",
    "\n",
    "endpoint = \"https://api.nilu.no/obs/aggregated\"\n",
    "\n",
    "\n",
    "parameters = {\n",
    "    \"stations\": \"OSLO\",  # Stasjon: Oslo\n",
    "    \"components\": \"NO2;PM10;PM2.5\",  # Luftkvalitetsparametere\n",
    "    \"fromDate\": \"2022-01-01\",  # Startdato\n",
    "    \"toDate\": \"2022-01-31\",  # Sluttdato\n",
    "    \"timeResolution\": \"daily\",  # Døgnmiddelverdier\n",
    "    \"includeMetadata\": \"false\"\n",
    "}\n",
    "\n",
    "file =  \"../data/raw_data/air_quality_nilu.json\""
   ]
  },
  {
   "cell_type": "code",
   "execution_count": 18,
   "metadata": {},
   "outputs": [
    {
     "name": "stdout",
     "output_type": "stream",
     "text": [
      "Status Code: 404\n",
      "Response Text: {\"type\":\"https://httpstatuses.com/404\",\"title\":\"Not Found\",\"status\":404,\"detail\":null,\"instance\":null}\n",
      "Kunne ikke hente data\n"
     ]
    },
    {
     "data": {
      "text/html": [
       "<div>\n",
       "<style scoped>\n",
       "    .dataframe tbody tr th:only-of-type {\n",
       "        vertical-align: middle;\n",
       "    }\n",
       "\n",
       "    .dataframe tbody tr th {\n",
       "        vertical-align: top;\n",
       "    }\n",
       "\n",
       "    .dataframe thead th {\n",
       "        text-align: right;\n",
       "    }\n",
       "</style>\n",
       "<table border=\"1\" class=\"dataframe\">\n",
       "  <thead>\n",
       "    <tr style=\"text-align: right;\">\n",
       "      <th></th>\n",
       "    </tr>\n",
       "  </thead>\n",
       "  <tbody>\n",
       "  </tbody>\n",
       "</table>\n",
       "</div>"
      ],
      "text/plain": [
       "Empty DataFrame\n",
       "Columns: []\n",
       "Index: []"
      ]
     },
     "execution_count": 18,
     "metadata": {},
     "output_type": "execute_result"
    }
   ],
   "source": [
    "import sys\n",
    "\n",
    "sys.path.insert(0, '../src')\n",
    "from fetch_data import fetch_data\n",
    "fetch_data(endpoint, parameters, file, client_id=None)"
   ]
  },
  {
   "cell_type": "code",
   "execution_count": null,
   "metadata": {},
   "outputs": [],
   "source": []
  }
 ],
 "metadata": {
  "kernelspec": {
   "display_name": "venv",
   "language": "python",
   "name": "python3"
  },
  "language_info": {
   "codemirror_mode": {
    "name": "ipython",
    "version": 3
   },
   "file_extension": ".py",
   "mimetype": "text/x-python",
   "name": "python",
   "nbconvert_exporter": "python",
   "pygments_lexer": "ipython3",
   "version": "3.13.2"
  }
 },
 "nbformat": 4,
 "nbformat_minor": 2
}
