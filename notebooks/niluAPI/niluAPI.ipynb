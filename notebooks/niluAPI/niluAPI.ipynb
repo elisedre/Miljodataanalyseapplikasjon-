{
 "cells": [
  {
   "cell_type": "code",
   "execution_count": 3,
   "metadata": {},
   "outputs": [],
   "source": [
    "#Globale paramtere for niluAPI\n",
    "import sys\n",
    "base_url = \"https://api.nilu.no/stats/day/\"\n",
    "from_date = \"2010-01-01\"\n",
    "to_date = \"2024-12-31\"\n",
    "radius=20"
   ]
  },
  {
   "cell_type": "code",
   "execution_count": 6,
   "metadata": {},
   "outputs": [
    {
     "name": "stdout",
     "output_type": "stream",
     "text": [
      "Gruppert data er lagret under ../../data/raw_data/air_quality_nilu_oslo.json\n"
     ]
    }
   ],
   "source": [
    "#Spesiell funksjon som bruker generell nilu API funksjon for å hente ut data\n",
    "def get_air_quality_nilu_oslo(): \n",
    "    \n",
    "    #Oslo koordinater\n",
    "    latitude= 59.9139\n",
    "    longitude=10.7522\n",
    "    \n",
    "    endpoint = f\"{base_url}/{from_date}/{to_date}/{latitude}/{longitude}/{radius}\"\n",
    "\n",
    "    output_file =  \"../../data/raw_data/air_quality_nilu_oslo.json\"\n",
    "\n",
    "    sys.path.insert(0, '../../src')\n",
    "    from niluAPI.get_data_niluAPI import fetch_air_quality_nilu\n",
    "    fetch_air_quality_nilu(endpoint,  output_file)\n",
    "\n",
    "get_air_quality_nilu_oslo()"
   ]
  }
 ],
 "metadata": {
  "kernelspec": {
   "display_name": "venv",
   "language": "python",
   "name": "python3"
  },
  "language_info": {
   "codemirror_mode": {
    "name": "ipython",
    "version": 3
   },
   "file_extension": ".py",
   "mimetype": "text/x-python",
   "name": "python",
   "nbconvert_exporter": "python",
   "pygments_lexer": "ipython3",
   "version": "3.13.2"
  }
 },
 "nbformat": 4,
 "nbformat_minor": 2
}
