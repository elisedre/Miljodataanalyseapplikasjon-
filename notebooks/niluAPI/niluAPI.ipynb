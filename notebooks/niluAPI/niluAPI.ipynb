{
 "cells": [
  {
   "cell_type": "code",
   "execution_count": 1,
   "metadata": {},
   "outputs": [],
   "source": [
    "#Globale paramtere for niluAPI\n",
    "import sys\n",
    "import numpy as np\n",
    "import pandas as pd\n",
    "from pandasql import sqldf\n",
    "import seaborn as sns\n",
    "import matplotlib.pyplot as plt\n",
    "\n",
    "base_url = \"https://api.nilu.no/stats/day/\"\n",
    "from_date = \"2010-04-02\"\n",
    "to_date = \"2016-12-31\"\n",
    "radius=20\n",
    "\n",
    "#Oslo kordinater\n",
    "latitude= 59.9139\n",
    "longitude=10.7522\n"
   ]
  },
  {
   "cell_type": "code",
   "execution_count": 2,
   "metadata": {},
   "outputs": [
    {
     "name": "stdout",
     "output_type": "stream",
     "text": [
      "Gruppert data er lagret under ../../data/raw_data/raw_air_quality_nilu_oslo.json\n"
     ]
    }
   ],
   "source": [
    "#Funksjon som bruker generell nilu API funksjon for å hente ut den rå dataen med luftkvalitet og lagre den i en json fil\n",
    "def get_raw_data_niluAPI(): \n",
    "    \n",
    "    endpoint = f\"{base_url}/{from_date}/{to_date}/{latitude}/{longitude}/{radius}\"\n",
    "    output_file =  \"../../data/raw_data/raw_air_quality_nilu_oslo.json\"\n",
    "\n",
    "\n",
    "    sys.path.insert(0, '../../src')\n",
    "    from niluAPI.data_niluAPI import fetch_raw_data_niluAPI, process_and_save_raw_data\n",
    "    raw_data= fetch_raw_data_niluAPI(endpoint)\n",
    "    processed_data = process_and_save_raw_data(raw_data, output_file)\n",
    "    return processed_data\n",
    "\n",
    "get_raw_data_niluAPI()\n"
   ]
  },
  {
   "cell_type": "code",
   "execution_count": 3,
   "metadata": {},
   "outputs": [
    {
     "name": "stdout",
     "output_type": "stream",
     "text": [
      "Gruppert data er lagret under ../../data/raw_data/raw_air_quality_nilu_oslo.json\n"
     ]
    }
   ],
   "source": [
    "#Funksjon som bruker generell nilu API funksjon for å hente ut den rå dataen med luftkvalitet og lagre den i en json fil\n",
    "def get_raw_data_niluAPI(): \n",
    "    \n",
    "    endpoint = f\"{base_url}/{from_date}/{to_date}/{latitude}/{longitude}/{radius}\"\n",
    "    output_file =  \"../../data/raw_data/raw_air_quality_nilu_oslo.json\"\n",
    "\n",
    "\n",
    "    sys.path.insert(0, '../../src')\n",
    "    from niluAPI.data_niluAPI import fetch_raw_data_niluAPI, process_and_save_raw_data\n",
    "    raw_data= fetch_raw_data_niluAPI(endpoint)\n",
    "    processed_data = process_and_save_raw_data(raw_data, output_file)\n",
    "    return processed_data\n",
    "\n",
    "get_raw_data_niluAPI()\n"
   ]
  },
  {
   "cell_type": "code",
   "execution_count": 4,
   "metadata": {},
   "outputs": [
    {
     "name": "stdout",
     "output_type": "stream",
     "text": [
      "Fjerning av outliers:\n",
      "Outliers er mer enn 3 standardavvik unna gjennomsnittet\n",
      "\n",
      "Verdi_NO2:\n",
      "Fjernet 39 outliers\n",
      "Standaravvik: 21.74\n",
      "Gjennomsnitt: 32.25\n",
      "\n",
      "Verdi_O3:\n",
      "Fjernet 8 outliers\n",
      "Standaravvik: 16.29\n",
      "Gjennomsnitt: 42.08\n",
      "\n",
      "Verdi_SO2:\n",
      "Fjernet 27 outliers\n",
      "Standaravvik: 1.17\n",
      "Gjennomsnitt: 2.23\n",
      "\n",
      "\n",
      "Interpolering av Nan-verdier:\n",
      "Verdi_NO2: 233 verdier ble interpolert\n",
      "Verdi_O3: 574 verdier ble interpolert\n",
      "Verdi_SO2: 393 verdier ble interpolert\n",
      "\n",
      "Gruppert data er lagret under ../../data/clean_data/niluAPI_clean_data.json\n"
     ]
    }
   ],
   "source": [
    "def clean_raw_data():\n",
    "    \n",
    "    raw_data_file =  \"../../data/raw_data/raw_air_quality_nilu_oslo.json\"\n",
    "    clean_data_file = \"../../data/clean_data/niluAPI_clean_data.json\"\n",
    "    cols= [\"Verdi_NO2\", \"Verdi_O3\", \"Verdi_SO2\"]\n",
    "    \n",
    "    sys.path.insert(0, '../../src')\n",
    "    from niluAPI.data_niluAPI import remove_outliers, interpolate_and_save_clean_data\n",
    "    # Først fjern outliers fra rådataene\n",
    "    pivot_df = remove_outliers(raw_data_file, cols)\n",
    "\n",
    "    # Hvis dataen ble lest riktig, prosesser og lagre dataen\n",
    "    if pivot_df is not None:\n",
    "        interpolate_and_save_clean_data(pivot_df, clean_data_file, from_date, to_date)  \n",
    "clean_raw_data()"
   ]
  },
  {
   "cell_type": "code",
   "execution_count": 5,
   "metadata": {},
   "outputs": [
    {
     "name": "stdout",
     "output_type": "stream",
     "text": [
      "Skjevhet før transformasjon:\n",
      "→ Verdi_NO2: 1.12\n",
      "→ Verdi_O3: -0.18\n",
      "→ Verdi_SO2: 0.76\n",
      "\n",
      "Påfører Yeo-Johnson på kolonner med skjevhet > ±1.0\n",
      "\n",
      "Skjevhet etter transformasjon:\n",
      "→ Verdi_NO2: -0.01\n",
      "→ Verdi_O3: -0.18\n",
      "→ Verdi_SO2: 0.76\n",
      "\n",
      "Gruppert data er lagret under ../../data/analyzed_data/niluAPI_analyzed_data.json\n"
     ]
    }
   ],
   "source": [
    "#Funskjon som skal nomalfordele skjevheten i dataene med yeo-johnson metoden\n",
    "def fix_skewness_data_niluAPI():\n",
    "    \n",
    "    sys.path.insert(0, '../../src/')\n",
    "    from niluAPI.data_niluAPI import analyse_and_fix_skewness\n",
    "    clean_data_file = \"../../data/clean_data/niluAPI_clean_data.json\"\n",
    "    analyze_data_file= \"../../data/analyzed_data/niluAPI_analyzed_data.json\"\n",
    "    threshold = 1.0\n",
    "    cols= [\"Verdi_NO2\", \"Verdi_O3\", \"Verdi_SO2\"]\n",
    "    analyse_and_fix_skewness(clean_data_file, analyze_data_file, threshold, cols)\n",
    "\n",
    "fix_skewness_data_niluAPI()\n"
   ]
  },
  {
   "cell_type": "code",
   "execution_count": 6,
   "metadata": {},
   "outputs": [
    {
     "name": "stdout",
     "output_type": "stream",
     "text": [
      "      Måned  Snitt_NO2   Snitt_O3  Snitt_SO2  AntallDager\n",
      "0   2010-04  35.294109  64.302514   2.862069           29\n",
      "1   2010-05  21.199597  59.643414   2.394220           31\n",
      "2   2010-06  20.604992  62.172153   1.661528           30\n",
      "3   2010-07  19.245623  59.183333   1.759274           31\n",
      "4   2010-08  22.120556  49.400958   1.744296           31\n",
      "..      ...        ...        ...        ...          ...\n",
      "76  2016-08  15.866144  31.959334   1.179835           31\n",
      "77  2016-09  11.270938  29.060571   1.426891           30\n",
      "78  2016-10  18.103540  30.474370   1.923178           31\n",
      "79  2016-11  38.514975  25.146216   2.166528           30\n",
      "80  2016-12  46.175656   8.485714   2.040703           31\n",
      "\n",
      "[81 rows x 5 columns]\n"
     ]
    }
   ],
   "source": [
    "#måntlig statistikk\n",
    "\n",
    "df = pd.read_json(\"../../data/clean_data/niluAPI_clean_data.json\")\n",
    "query = \"\"\"\n",
    "SELECT \n",
    "    strftime('%Y-%m', Dato) AS Måned, \n",
    "    AVG(Verdi_NO2) AS Snitt_NO2,\n",
    "    AVG(Verdi_O3) AS Snitt_O3,\n",
    "    AVG(Verdi_SO2) AS Snitt_SO2,\n",
    "    COUNT(*) AS AntallDager\n",
    "FROM df\n",
    "GROUP BY Måned\n",
    "ORDER BY Måned\n",
    "\"\"\"\n",
    "\n",
    "    # Execute the query\n",
    "pysqldf = lambda q: sqldf(q, globals())\n",
    "monthly_stats = pysqldf(query)\n",
    "\n",
    "\n",
    "print(monthly_stats)"
   ]
  }
 ],
 "metadata": {
  "kernelspec": {
   "display_name": "venv",
   "language": "python",
   "name": "python3"
  },
  "language_info": {
   "codemirror_mode": {
    "name": "ipython",
    "version": 3
   },
   "file_extension": ".py",
   "mimetype": "text/x-python",
   "name": "python",
   "nbconvert_exporter": "python",
   "pygments_lexer": "ipython3",
   "version": "3.13.1"
  }
 },
 "nbformat": 4,
 "nbformat_minor": 2
}
