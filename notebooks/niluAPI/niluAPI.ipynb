{
 "cells": [
  {
   "cell_type": "code",
   "execution_count": 1,
   "metadata": {},
   "outputs": [],
   "source": [
    "#Globale paramtere for niluAPI\n",
    "import sys\n",
    "import numpy as np\n",
    "base_url = \"https://api.nilu.no/stats/day/\"\n",
    "from_date = \"2010-01-01\"\n",
    "to_date = \"2018-12-31\"\n",
    "radius=20\n",
    "#Oslo kordinater\n",
    "latitude= 59.9139\n",
    "longitude=10.7522"
   ]
  },
  {
   "cell_type": "code",
   "execution_count": 5,
   "metadata": {},
   "outputs": [
    {
     "name": "stdout",
     "output_type": "stream",
     "text": [
      "Gruppert data er lagret under ../../data/raw_data/raw_air_quality_nilu_oslo.json\n"
     ]
    }
   ],
   "source": [
    "#Funksjon som bruker generell nilu API funksjon for å hente ut den rå dataen og lagre den i en json fil\n",
    "def get_raw_air_quality_data_nilu_oslo(): \n",
    "    \n",
    "    endpoint = f\"{base_url}/{from_date}/{to_date}/{latitude}/{longitude}/{radius}\"\n",
    "\n",
    "    output_file =  \"../../data/raw_data/raw_air_quality_nilu_oslo.json\"\n",
    "\n",
    "    sys.path.insert(0, '../../src')\n",
    "    from niluAPI.get_data_niluAPI import fetch_raw_air_quality_data\n",
    "    fetch_raw_air_quality_data(endpoint,  output_file)\n",
    "\n",
    "get_raw_air_quality_data_nilu_oslo()"
   ]
  },
  {
   "cell_type": "code",
   "execution_count": null,
   "metadata": {},
   "outputs": [
    {
     "name": "stdout",
     "output_type": "stream",
     "text": [
      "Gruppert data er lagret under ../../data/clean_data/clean_air_quality_nilu_oslo.json\n"
     ]
    }
   ],
   "source": [
    "#Funksjon som bruker generell nilu API funksjon for å rense den rå dataen og lagre den i en json fil\n",
    "def clean_raw_air_quality_data_nilu_oslo():\n",
    "    raw_data_file =  \"../../data/raw_data/air_quality_nilu_oslo.json\"\n",
    "    clean_data_file = \"../../data/clean_data/clean_air_quality_nilu_oslo.json\"\n",
    "    col= [\"Verdi_NO2\", \"Verdi_O3\", \"Verdi_SO2\"]\n",
    "    sys.path.insert(0, '../../src')\n",
    "    from niluAPI.get_data_niluAPI import process_and_save_clean_data, remove_outliers\n",
    "    \n",
    "    process_and_save_clean_data(raw_data_file, clean_data_file, from_date, to_date)\n",
    "clean_raw_air_quality_data_nilu_oslo()  \n"
   ]
  },
  {
   "cell_type": "code",
   "execution_count": 4,
   "metadata": {},
   "outputs": [
    {
     "name": "stdout",
     "output_type": "stream",
     "text": [
      "Verdi_NO2:\n",
      "Fjernet 49 outliers, som er mer enn 3 standardavvik unna gjennomsnittet\n",
      "Standarsavvik: 22.22813278917124\n",
      "Gjennomsnitt: 32.20910285475852\n",
      "Verdi_O3:\n",
      "Fjernet 6 outliers, som er mer enn 3 standardavvik unna gjennomsnittet\n",
      "Standarsavvik: 16.32445977911544\n",
      "Gjennomsnitt: 42.45968969964842\n",
      "Verdi_SO2:\n",
      "Fjernet 38 outliers, som er mer enn 3 standardavvik unna gjennomsnittet\n",
      "Standarsavvik: 1.1625209238387966\n",
      "Gjennomsnitt: 2.123869547276853\n",
      "Gruppert data er lagret under ../../data/clean_data/clean_air_quality_nilu_oslo1.json\n"
     ]
    }
   ],
   "source": [
    "def process_data():\n",
    "    \n",
    "    raw_data_file =  \"../../data/raw_data/raw_air_quality_nilu_oslo.json\"\n",
    "    clean_data_file = \"../../data/clean_data/clean_air_quality_nilu_oslo1.json\"\n",
    "    cols= [\"Verdi_NO2\", \"Verdi_O3\", \"Verdi_SO2\"]\n",
    "    \n",
    "    sys.path.insert(0, '../../src')\n",
    "    from niluAPI.get_data_niluAPI import process_and_save_clean_data, remove_outliers\n",
    "    # Først fjern outliers fra rådataene\n",
    "    pivot_df = remove_outliers(raw_data_file, cols)\n",
    "\n",
    "    # Hvis dataen ble lest riktig, prosesser og lagre dataen\n",
    "    if pivot_df is not None:\n",
    "        process_and_save_clean_data(pivot_df, clean_data_file, from_date, to_date)  \n",
    "process_data()"
   ]
  }
 ],
 "metadata": {
  "kernelspec": {
   "display_name": "venv",
   "language": "python",
   "name": "python3"
  },
  "language_info": {
   "codemirror_mode": {
    "name": "ipython",
    "version": 3
   },
   "file_extension": ".py",
   "mimetype": "text/x-python",
   "name": "python",
   "nbconvert_exporter": "python",
   "pygments_lexer": "ipython3",
   "version": "3.13.1"
  }
 },
 "nbformat": 4,
 "nbformat_minor": 2
}
