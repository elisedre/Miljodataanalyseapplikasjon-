{
 "cells": [
  {
   "cell_type": "code",
   "execution_count": 1,
   "metadata": {},
   "outputs": [],
   "source": [
    "\n",
    "base_url = \"https://api.nilu.no/stats/day/\"\n",
    "from_date = \"2010-01-01\"\n",
    "to_date = \"2024-12-31\"\n",
    "latitude= 59.9139\n",
    "longitude=10.7522\n",
    "radius=20\n",
    "\n",
    "endpoint = f\"{base_url}/{from_date}/{to_date}/{latitude}/{longitude}/{radius}\"\n",
    "\n",
    "output_file =  \"../data/raw_data/air_quality_nilu_oslo.json\"\n"
   ]
  },
  {
   "cell_type": "code",
   "execution_count": null,
   "metadata": {},
   "outputs": [
    {
     "name": "stdout",
     "output_type": "stream",
     "text": [
      "Gruppert data er lagret under ../data/raw_data/air_quality_nilu_oslo.json\n"
     ]
    }
   ],
   "source": [
    "import sys\n",
    "\n",
    "sys.path.insert(0, '../src')\n",
    "\n",
    "from niluAPI.fetch_airqual_data_nilu import fetch_nilu_oslo\n",
    "fetch_nilu_oslo(endpoint,  output_file)"
   ]
  }
 ],
 "metadata": {
  "kernelspec": {
   "display_name": "venv",
   "language": "python",
   "name": "python3"
  },
  "language_info": {
   "codemirror_mode": {
    "name": "ipython",
    "version": 3
   },
   "file_extension": ".py",
   "mimetype": "text/x-python",
   "name": "python",
   "nbconvert_exporter": "python",
   "pygments_lexer": "ipython3",
   "version": "3.13.1"
  }
 },
 "nbformat": 4,
 "nbformat_minor": 2
}
